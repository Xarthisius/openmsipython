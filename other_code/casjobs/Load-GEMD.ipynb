{
 "cells": [
  {
   "cell_type": "markdown",
   "metadata": {},
   "source": [
    "# Load GEMD files in database\n",
    "This code is for information purposes onlny as it requires permissions on our SciServer system that users of this repo will not in general posess. The database schema is defined by files in the database_design subfolder.\n",
    "\n",
    "#### NB parts of this code can only be run by someone with direct credentials to the database"
   ]
  },
  {
   "cell_type": "code",
   "execution_count": null,
   "metadata": {},
   "outputs": [],
   "source": [
    "import glob\n",
    "import json\n",
    "import random\n",
    "import pandas\n",
    "import pprint\n",
    "import sys\n",
    "import json\n",
    "import numpy as np"
   ]
  },
  {
   "cell_type": "markdown",
   "metadata": {},
   "source": [
    "## create CSV files from the JSON GEMD \n",
    "complete_data_model.json is located in an aptly named folder and contains all JSON content to be loaded"
   ]
  },
  {
   "cell_type": "code",
   "execution_count": null,
   "metadata": {},
   "outputs": [],
   "source": [
    "maggie='/home/idies/workspace/Temporary/gerard/GEMD-Maggie'"
   ]
  },
  {
   "cell_type": "code",
   "execution_count": null,
   "metadata": {},
   "outputs": [],
   "source": [
    "with open(f'{maggie}/gemd_data_model_dumps/complete_data_model.json','r') as lf:\n",
    "    d=json.load(lf)"
   ]
  },
  {
   "cell_type": "code",
   "execution_count": null,
   "metadata": {},
   "outputs": [],
   "source": [
    "len(d['context']),len(d['object'])"
   ]
  },
  {
   "cell_type": "code",
   "execution_count": null,
   "metadata": {},
   "outputs": [],
   "source": [
    "contexts=[[c['uids']['auto'],c['type'],json.dumps(c)] for c in d['context']]\n",
    "contexts=pandas.DataFrame(contexts,columns=['uid','gemd_type','context'])"
   ]
  },
  {
   "cell_type": "code",
   "execution_count": null,
   "metadata": {},
   "outputs": [],
   "source": [
    "objects=[[o['id'],o['scope'],o['type']] for o in d['object']]\n",
    "objects=pandas.DataFrame(objects,columns=['uid','scope','gemd_type'])"
   ]
  },
  {
   "cell_type": "code",
   "execution_count": null,
   "metadata": {},
   "outputs": [],
   "source": [
    "CONTEXTS_CSV=f'{maggie}/contexts.csv'\n",
    "OBJECTS_CSV=f'{maggie}/objects.csv'"
   ]
  },
  {
   "cell_type": "code",
   "execution_count": null,
   "metadata": {},
   "outputs": [],
   "source": [
    "contexts.to_csv(CONTEXTS_CSV,index=False,header=False)"
   ]
  },
  {
   "cell_type": "code",
   "execution_count": null,
   "metadata": {},
   "outputs": [],
   "source": [
    "objects=objects.drop_duplicates()   # there were some\n",
    "objects.to_csv(OBJECTS_CSV,index=False,header=False)"
   ]
  },
  {
   "cell_type": "markdown",
   "metadata": {},
   "source": [
    "# Load in GEMD database\n",
    "Prepared with \n",
    "```sql\n",
    "create table GEMDContext (\n",
    "  uid varchar(36) not null\n",
    "  , gemd_type varchar(32) not null\n",
    "  , context varchar(max) not null\n",
    ")\n",
    "\n",
    "create table GEMDObject (\n",
    "  uid varchar(36) not null\n",
    "  , scope varchar(32) not null\n",
    "  , gemd_type varchar(32) not null\n",
    ")\n",
    "```"
   ]
  },
  {
   "cell_type": "markdown",
   "metadata": {},
   "source": [
    "Here starts some code that is only runnable by GL"
   ]
  },
  {
   "cell_type": "code",
   "execution_count": null,
   "metadata": {},
   "outputs": [],
   "source": [
    "pyUTILS_path=\"/path/to/a/python/script/with/database/access/utility/functions\"\n",
    "AUTH_JSON='location/of/file/with/database/credentials'"
   ]
  },
  {
   "cell_type": "code",
   "execution_count": null,
   "metadata": {},
   "outputs": [],
   "source": [
    "sys.path.insert(0, pyUTILS_path)\n",
    "from sciserver_db_geography_utils import *\n",
    "with open(AUTH_JSON,\"r\") as f:\n",
    "    AUTH=json.load(f)"
   ]
  },
  {
   "cell_type": "raw",
   "metadata": {},
   "source": [
    "filestables=[{\"csv-file\":OBJECTS_CSV,\"table-name\":\"GEMDObject\"},{\"csv-file\":CONTEXTS_CSV,\"table-name\":\"GEMDContext\"}]"
   ]
  },
  {
   "cell_type": "markdown",
   "metadata": {},
   "source": [
    "Next call submits a Job to SciServer batch queue that uses Java code to load data into the database. More efficient than for example SQL Alchemy uploads.\n",
    "\n",
    "#### NB this code can only be run by someone with direct credentials to the database"
   ]
  },
  {
   "cell_type": "raw",
   "metadata": {},
   "source": [
    "%%time\n",
    "tables,result=writefiles2dbtables(filestables,AUTH_JSON,USERVOLUMES=['Temporary/gerard/GEMD-Maggie'],mode='A')"
   ]
  },
  {
   "cell_type": "markdown",
   "metadata": {},
   "source": [
    "# add more explicit tables and views\n",
    "For each of the main object types create table/view and extract somewhat more explicit metadata into columns. In particular a name and all the references/foreign keys to other tables n this set. Note that the tables are defined implicitly using the <tt>SELECT ... INTO...</tt> supported by MS SQL. For this reason one needs a database user with appopriate privileges.\n",
    "\n",
    "<img src='https://citrineinformatics.github.io/gemd-docs/img/GEMD-Object-Graph.png'></img>\n"
   ]
  },
  {
   "cell_type": "markdown",
   "metadata": {},
   "source": [
    "Use class in utility script. Again must be laoded with appropriate permissions not avilable to random users."
   ]
  },
  {
   "cell_type": "code",
   "execution_count": null,
   "metadata": {},
   "outputs": [],
   "source": [
    "from gemd_database import MSSQLDatabase"
   ]
  },
  {
   "cell_type": "code",
   "execution_count": null,
   "metadata": {},
   "outputs": [],
   "source": [
    "GEMDDB=MSSQLDatabase(AUTH,'GEMD')"
   ]
  },
  {
   "cell_type": "markdown",
   "metadata": {},
   "source": [
    "## material"
   ]
  },
  {
   "cell_type": "code",
   "execution_count": null,
   "metadata": {},
   "outputs": [],
   "source": [
    "sql=\"\"\"\n",
    "select uid\n",
    ",      json_value(context,'$.name') as name\n",
    ",      context\n",
    "  into material_template\n",
    "  from gemdcontext\n",
    " where gemd_type='material_template'\n",
    "\"\"\"\n",
    "r=GEMDDB.execute_update(sql)    "
   ]
  },
  {
   "cell_type": "code",
   "execution_count": null,
   "metadata": {},
   "outputs": [],
   "source": [
    "sql=\"\"\"\n",
    "drop table material_spec\n",
    "select uid\n",
    ",      json_value(context,'$.name') as name\n",
    ",      json_value(context,'$.template.id') as template_uid\n",
    ",      json_value(context,'$.process.id') as process_spec_uid\n",
    ",      context\n",
    "  into material_spec\n",
    "  from gemdcontext\n",
    " where gemd_type='material_spec'\n",
    "\"\"\"\n",
    "GEMDDB.execute_update(sql)"
   ]
  },
  {
   "cell_type": "code",
   "execution_count": null,
   "metadata": {},
   "outputs": [],
   "source": [
    "sql=\"\"\"\n",
    "select uid\n",
    ",      json_value(context,'$.name') as name\n",
    ",      json_value(context,'$.spec.id') as spec_uid\n",
    ",      json_value(context,'$.process.id') as process_run_uid\n",
    ",      context\n",
    "  into material_run\n",
    "  from gemdcontext\n",
    " where gemd_type='material_run'\n",
    "\"\"\"\n",
    "GEMDDB.execute_update(sql)"
   ]
  },
  {
   "cell_type": "markdown",
   "metadata": {},
   "source": [
    "## measurement"
   ]
  },
  {
   "cell_type": "code",
   "execution_count": null,
   "metadata": {},
   "outputs": [],
   "source": [
    "sql=\"\"\"\n",
    "select uid\n",
    ",      json_value(context,'$.name') as name\n",
    ",      context\n",
    "  into measurement_template\n",
    "  from gemdcontext\n",
    " where gemd_type='measurement_template'\n",
    "\"\"\"\n",
    "GEMDDB.execute_update(sql)"
   ]
  },
  {
   "cell_type": "code",
   "execution_count": null,
   "metadata": {},
   "outputs": [],
   "source": [
    "sql=\"\"\"\n",
    "select uid\n",
    ",      json_value(context,'$.name') as name\n",
    ",      json_value(context,'$.template.id') as template_uid\n",
    ",      context\n",
    "  into measurement_spec\n",
    "  from gemdcontext\n",
    " where gemd_type='measurement_spec'\n",
    "\"\"\"\n",
    "GEMDDB.execute_update(sql)"
   ]
  },
  {
   "cell_type": "code",
   "execution_count": null,
   "metadata": {},
   "outputs": [],
   "source": [
    "sql=\"\"\"\n",
    "select uid\n",
    ",      json_value(context,'$.name') as name\n",
    ",      json_value(context,'$.source.performed_by') as performed_by\n",
    ",      json_value(context,'$.source.performed_date') as performed_date\n",
    ",      json_value(context,'$.spec.id') as spec_uid\n",
    ",      json_value(context,'$.material.id') as material_uid\n",
    ",      context\n",
    "  into measurement_run\n",
    "  from gemdcontext\n",
    " where gemd_type='measurement_run'\n",
    "\"\"\"\n",
    "GEMDDB.execute_update(sql)"
   ]
  },
  {
   "cell_type": "markdown",
   "metadata": {},
   "source": [
    "## process"
   ]
  },
  {
   "cell_type": "code",
   "execution_count": null,
   "metadata": {},
   "outputs": [],
   "source": [
    "sql=\"\"\"\n",
    "select uid\n",
    ",      json_value(context,'$.name') as name\n",
    ",      context\n",
    "  into process_template\n",
    "  from gemdcontext\n",
    " where gemd_type='process_template'\n",
    "\"\"\"\n",
    "GEMDDB.execute_update(sql)"
   ]
  },
  {
   "cell_type": "code",
   "execution_count": null,
   "metadata": {},
   "outputs": [],
   "source": [
    "sql=\"\"\"\n",
    "select uid\n",
    ",      json_value(context,'$.name') as name\n",
    ",      json_value(context,'$.source.performed_by') as p_performed_by\n",
    ",      json_value(context,'$.source.performed_date') as p_performed_date\n",
    ",      json_value(context,'$.spec.id') as spec_uid\n",
    ",      context\n",
    "  into process_run\n",
    "  from gemdcontext\n",
    " where gemd_type='process_run'\n",
    "\"\"\"\n",
    "GEMDDB.execute_update(sql)"
   ]
  },
  {
   "cell_type": "code",
   "execution_count": null,
   "metadata": {
    "tags": []
   },
   "outputs": [],
   "source": [
    "sql=\"\"\"\n",
    "select uid\n",
    ",      json_value(context,'$.name') as name\n",
    ",      json_value(context,'$.template.id') as template_uid\n",
    ",      context\n",
    "  into process_spec\n",
    "  from gemdcontext\n",
    " where gemd_type='process_spec'\n",
    "\"\"\"\n",
    "GEMDDB.execute_update(sql)"
   ]
  },
  {
   "cell_type": "markdown",
   "metadata": {},
   "source": [
    "## ingredient"
   ]
  },
  {
   "cell_type": "code",
   "execution_count": null,
   "metadata": {},
   "outputs": [],
   "source": [
    "# into ingredient_spec\n",
    "#   \n",
    "sql=\"\"\"\n",
    "select distinct s.gemd_type as spec, m.gemd_type as material, p.gemd_type as process\n",
    "  from gemdcontext i \n",
    "  join gemdcontext s on s.uid=json_value(i.context,'$.spec.id')\n",
    "  join gemdcontext m on m.uid=json_value(i.context,'$.material.id')\n",
    "  join gemdcontext p on p.uid=json_value(i.context,'$.process.id')\n",
    " where i.gemd_type='ingredient_run'\n",
    "\"\"\"\n",
    "GEMDDB.execute_query(sql)\n",
    "# GEMDDB.execute_update(sql)"
   ]
  },
  {
   "cell_type": "code",
   "execution_count": null,
   "metadata": {},
   "outputs": [],
   "source": [
    "# \n",
    "#   \n",
    "sql=\"\"\"\n",
    "select i.uid\n",
    ",      json_value(i.context,'$.name') as name\n",
    ",      json_value(i.context,'$.material.id') as material_spec_uid\n",
    ",      json_value(i.context,'$.process.id') as process_spec_uid\n",
    ",      i.context\n",
    "  into ingredient_spec\n",
    "  from gemdcontext i \n",
    "where i.gemd_type='ingredient_spec'\n",
    "\"\"\"\n",
    "# GEMDDB.execute_query(sql)\n",
    "GEMDDB.execute_update(sql)"
   ]
  },
  {
   "cell_type": "code",
   "execution_count": null,
   "metadata": {},
   "outputs": [],
   "source": [
    "sql=\"\"\"\n",
    "select i.uid\n",
    ",      json_value(i.context,'$.name') as name\n",
    ",      json_value(i.context,'$.spec.id') as spec_uid\n",
    ",      json_value(i.context,'$.material.id') as material_run_uid\n",
    ",      json_value(i.context,'$.process.id') as process_run_uid\n",
    ",      i.context\n",
    "  into ingredient_run\n",
    "  from gemdcontext i \n",
    "where i.gemd_type='ingredient_run'\n",
    "\"\"\"\n",
    "# GEMDDB.execute_query(sql)\n",
    "GEMDDB.execute_update(sql)"
   ]
  },
  {
   "cell_type": "code",
   "execution_count": null,
   "metadata": {},
   "outputs": [],
   "source": []
  }
 ],
 "metadata": {
  "kernelspec": {
   "display_name": "Python 3.8 (py38)",
   "language": "python",
   "name": "py38"
  },
  "language_info": {
   "codemirror_mode": {
    "name": "ipython",
    "version": 3
   },
   "file_extension": ".py",
   "mimetype": "text/x-python",
   "name": "python",
   "nbconvert_exporter": "python",
   "pygments_lexer": "ipython3",
   "version": "3.8.5"
  }
 },
 "nbformat": 4,
 "nbformat_minor": 4
}
