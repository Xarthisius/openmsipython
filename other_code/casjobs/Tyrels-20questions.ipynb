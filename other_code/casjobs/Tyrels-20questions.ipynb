{
 "cells": [
  {
   "cell_type": "markdown",
   "metadata": {},
   "source": [
    "# Tyrel's \"20 questions\"\n"
   ]
  },
  {
   "cell_type": "markdown",
   "metadata": {},
   "source": [
    "For a physical material specimen, there are usually a bunch of common descriptors, including:\n",
    "\n",
    "Descriptor\tConcrete Example(s)\n",
    "* Who made it?\tTMM / Tyrel M. McQueen\n",
    "* When was it made?\tOctober 21st - 23rd , 2021\n",
    "* Equipment used to make it\t1200 C box furnace\n",
    "* Specific equipment used\tSpyder or #6578293\n",
    "* Target material\tKV3Sb5\n",
    "* WSe2//MoS2//h-BN\n",
    "* Na2Co2TeO6\n",
    "* Input chemicals (typically multiple)\t\n",
    "  *      - Nominal composition\tTeO2\n",
    "  *      - Source\tAlfa Aesar lot #56872, or\n",
    "* TMM Sample XYZ\n",
    "  *      - Desired quantity\t 0.5678 g\n",
    "  *      - Actual quantity\t 0.5872 g\n",
    "* Planned chemical reaction\tNa2CO3 + 2/3 Co3O4 + TeO2 + 1/6 O2(g)→  Na2Co2TeO6 + CO2(g)\n",
    "* Planned reaction recipe\tHeat 100 C/hr to 800 C, hold 10 hr, ice water quench\n",
    "* Actual reaction\tHeated 100 C/hr to 800 C, held 11.2 hr, ice water quenched (1.3 s to go from furnace to water)\n",
    "\n",
    "Then lots of associated measurements/data:\n",
    "\n",
    "Measurement\tConcrete Example(s) \\\n",
    "* X-ray diffraction (XRD), for structure determination\tRaw data: Intensity versus 2-Theta \n",
    "* Analyzed info: structures / unit cells / phases present \n",
    "* PPMS/MPMS for resistivity and magnetization\tRaw data: resistance or magnetization versus temperature and field \n",
    "* Analyzed data: band gap (if insulator), RRR (if metal), Curie-Weiss constants (if magnetic) \n",
    "* SEM/EDS for chemical composition and homogeneity\tRaw data: 2-D images, intensity versus energy EDS spectra at various points \n",
    "* Analyzed info: crystallite size/morphology, local chemical compositions (e.g. K3Sb + V3Sb2 + Sb) \n",
    "* ICP-OES/MS for chemical composition\tRaw data: ppm of detected elements \n",
    "* Analyzed data: average chemical composition (e.g. KV3Sb5) \n",
    "* Parameters measured during growth\tGas flow rates and pressures \n",
    "* Real-time optical imaging \n",
    "* Real-time mass spectrometry \n",
    "Temperatures \n",
    "...lots more...\t \n",
    "\n",
    "For these, common queries that do not involve associated measurements would be:  \n",
    "* “What are all compounds we have made containing elements K, V, and Sb?” \n",
    "* “Have we ever tried to make KV3Sb5? If so, how?” \n",
    "* “What were all samples made with source TeO2 Alfa Aesar Lot #12345678?” \n",
    "* “What were all samples made with the equipment Spyder between dates A and B?” \n",
    "\n",
    "Common queries that do involve associated measurements would be:\n",
    "* “Have we ever made something with composition close to NdAlSi? If so, how?”\n",
    "* “What materials behave as electrical insulators?” [or, conversely, metals]\n",
    "* “What materials have a superconducting signal?” [from magnetization]\n",
    "* “What material we made that have a perovskite crystal structure? Or, a unit cell close to dimensions X,Y,Z,a,b,g”\n",
    "* “What past growths have images similar to this image I provide?”\n",
    "\n",
    "And some examples of new things uniquely enabled by data and connecting to other sources of data:\n",
    "* “Show me the ternary phase diagram of K-V-Sb, based on CALPHED (thermodynamics), overlaid with computational predictions from materials project, and results of actual experimental synthesis attempts.”\n",
    "* “Give me the predicted energies of the planned reaction”\n",
    "* “Do any of our unknown x-ray diffraction patterns have a component that matches any of the predicted by not realized materials in materials project?”\n",
    "\n"
   ]
  },
  {
   "cell_type": "code",
   "execution_count": null,
   "metadata": {},
   "outputs": [],
   "source": []
  }
 ],
 "metadata": {
  "kernelspec": {
   "display_name": "Python 3.8 (py38)",
   "language": "python",
   "name": "py38"
  },
  "language_info": {
   "codemirror_mode": {
    "name": "ipython",
    "version": 3
   },
   "file_extension": ".py",
   "mimetype": "text/x-python",
   "name": "python",
   "nbconvert_exporter": "python",
   "pygments_lexer": "ipython3",
   "version": "3.8.5"
  }
 },
 "nbformat": 4,
 "nbformat_minor": 4
}
