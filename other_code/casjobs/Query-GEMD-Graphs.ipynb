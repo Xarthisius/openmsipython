{
 "cells": [
  {
   "cell_type": "markdown",
   "metadata": {},
   "source": [
    "# Sample queries exploring Graph structure in GEMD database\n"
   ]
  },
  {
   "cell_type": "code",
   "execution_count": null,
   "metadata": {},
   "outputs": [],
   "source": [
    "import SciServer.CasJobs as cj\n",
    "from pprint import pprint\n",
    "import json\n",
    "import pandas"
   ]
  },
  {
   "cell_type": "code",
   "execution_count": null,
   "metadata": {},
   "outputs": [],
   "source": [
    "DATABASE='GEMD'"
   ]
  },
  {
   "cell_type": "markdown",
   "metadata": {},
   "source": [
    "This path finds airs of nodes with >1 path from one to the other. \\\n",
    "Turns out there are none."
   ]
  },
  {
   "cell_type": "code",
   "execution_count": null,
   "metadata": {},
   "outputs": [],
   "source": [
    "%%time\n",
    "sql=\"\"\"\n",
    "with gr as (\n",
    "select c.uid as root_uid\n",
    ",      c.gemd_type as root_type\n",
    ",      0 as level\n",
    ",      cast(NULL as varchar(64)) as endpoint_uid\n",
    ",      cast(NULL as varchar(32)) as endpoint_type\n",
    ",      c.uid as from_uid, cast(NULL as bigint) as edge_id, cast(NULL as varchar(64)) as gemd_ref\n",
    ",      cast(gemd_type+c.uid as varchar(max)) as [path]\n",
    "  from GEMDContext c where gemd_type='material_run'\n",
    " union all\n",
    "select gr.root_uid, gr.root_type, gr.level+1, e.to_uid, c.gemd_type\n",
    ",      e.to_uid, e.id, e.gemd_ref\n",
    ",      gr.path+'==>'+e.gemd_ref+':'+e.to_uid\n",
    "  from gr \n",
    "  join GEMDEdge e on e.from_uid=gr.from_uid\n",
    "  join gemdcontext c on c.uid=e.to_uid\n",
    "where gr.level < 16\n",
    ")\n",
    "select root_uid, root_type, endpoint_uid, endpoint_type\n",
    ",      min(path) as path, min(level) as min_level, max(level) as max_level\n",
    ",      count(*) as num_paths\n",
    "  from gr\n",
    "group by root_type, root_uid, endpoint_uid,endpoint_type having count(*) > 1  -- if you want to find multiple paths between nodes\n",
    " order by root_type,root_uid, endpoint_uid,path\n",
    "\"\"\"\n",
    "cj.executeQuery(sql, DATABASE)"
   ]
  },
  {
   "cell_type": "markdown",
   "metadata": {},
   "source": [
    "Following query returns all paths between all nodes. This can be compared with the graph functionality inside MS SQL itself but is much faster."
   ]
  },
  {
   "cell_type": "code",
   "execution_count": null,
   "metadata": {},
   "outputs": [],
   "source": [
    "%%time\n",
    "sql=\"\"\"\n",
    "with gr as (\n",
    "select c.uid as root_uid\n",
    ",      c.gemd_type as root_type\n",
    ",      0 as level\n",
    ",      cast(NULL as varchar(64)) as endpoint_uid\n",
    ",      c.uid as from_uid, cast(NULL as bigint) as edge_id, cast(NULL as varchar(64)) as gemd_ref\n",
    ",      cast(gemd_type+':'+c.uid as varchar(max)) as [path]\n",
    "  from GEMDContext c\n",
    " union all\n",
    "select gr.root_uid, gr.root_type, gr.level+1, e.to_uid\n",
    ",      e.to_uid, e.id, e.gemd_ref\n",
    ",      gr.path+'==>'+e.gemd_ref+':'+e.to_uid\n",
    "  from gr\n",
    "  join GEMDEdge e on e.from_uid=gr.from_uid\n",
    "where gr.level < 16\n",
    ")\n",
    "select root_uid, root_type, endpoint_uid\n",
    ",      edge_id,gemd_ref\n",
    ",      path, level\n",
    "  from gr\n",
    " order by root_type,root_uid, path\n",
    "\"\"\"\n",
    "paths=cj.executeQuery(sql, DATABASE)"
   ]
  },
  {
   "cell_type": "code",
   "execution_count": null,
   "metadata": {},
   "outputs": [],
   "source": [
    "edges=paths[paths['level']>0]\n",
    "edges"
   ]
  },
  {
   "cell_type": "markdown",
   "metadata": {},
   "source": [
    "count for each node how many distinct nodes can be reached from it"
   ]
  },
  {
   "cell_type": "code",
   "execution_count": null,
   "metadata": {},
   "outputs": [],
   "source": [
    "%%time\n",
    "sql=\"\"\"\n",
    "with gr as (\n",
    "select c.uid as root_uid\n",
    ",      c.gemd_type as root_type\n",
    ",      0 as level\n",
    ",      cast(NULL as varchar(64)) as endpoint_uid\n",
    ",      c.uid as from_uid, cast(NULL as bigint) as edge_id, cast(NULL as varchar(64)) as gemd_ref\n",
    ",      cast(gemd_type+c.uid as varchar(max)) as [path]\n",
    "  from GEMDContext c\n",
    " union all\n",
    "select gr.root_uid, gr.root_type, gr.level+1, e.to_uid\n",
    ",      e.to_uid, e.id, e.gemd_ref\n",
    ",      gr.path+'==>'+e.gemd_ref+':'+e.to_uid\n",
    "  from gr\n",
    "  join GEMDEdge e on e.from_uid=gr.from_uid\n",
    "where gr.level < 16\n",
    ")\n",
    "select root_uid, root_type, count(distinct endpoint_uid) as num_out_nodes\n",
    "  from gr\n",
    "group by root_type, root_uid\n",
    " order by num_out_nodes desc\n",
    "\"\"\"\n",
    "nodes_out=cj.executeQuery(sql, DATABASE)"
   ]
  },
  {
   "cell_type": "markdown",
   "metadata": {},
   "source": [
    "count for each node how many distinct nodes can reached it"
   ]
  },
  {
   "cell_type": "code",
   "execution_count": null,
   "metadata": {},
   "outputs": [],
   "source": [
    "%%time\n",
    "sql=\"\"\"\n",
    "with gr as (\n",
    "select c.uid as root_uid\n",
    ",      c.gemd_type as root_type\n",
    ",      0 as level\n",
    ",      cast(NULL as varchar(64)) as endpoint_uid\n",
    ",      c.uid as from_uid, cast(NULL as bigint) as edge_id, cast(NULL as varchar(64)) as gemd_ref\n",
    ",      cast(gemd_type+c.uid as varchar(max)) as [path]\n",
    "  from GEMDContext c\n",
    " union all\n",
    "select gr.root_uid, gr.root_type, gr.level+1, e.to_uid\n",
    ",      e.to_uid, e.id, e.gemd_ref\n",
    ",      gr.path+'==>'+e.gemd_ref+':'+e.to_uid\n",
    "  from gr\n",
    "  join GEMDEdge e on e.from_uid=gr.from_uid\n",
    "where gr.level < 16\n",
    ")\n",
    "select endpoint_uid, count(distinct root_uid) as num_in_nodes\n",
    "  from gr\n",
    "group by endpoint_uid\n",
    " order by num_in_nodes desc\n",
    "\"\"\"\n",
    "nodes_in=cj.executeQuery(sql, DATABASE)"
   ]
  },
  {
   "cell_type": "code",
   "execution_count": null,
   "metadata": {},
   "outputs": [],
   "source": [
    "nodes_out.head()"
   ]
  },
  {
   "cell_type": "markdown",
   "metadata": {},
   "source": [
    "## visualize\n",
    "Goal is to get a visualization vapability ala that supported by \n",
    "<a href=\"http://www.thebrain.com\" target=\"_blank\">http://www.thebrain.com</a>. \\\n",
    "This allows one to trace edges from a starting node, restricting views to only that node and nodes 1 or 2 steps away. \\\n",
    "Needs code development!"
   ]
  },
  {
   "cell_type": "code",
   "execution_count": null,
   "metadata": {},
   "outputs": [],
   "source": [
    "import networkx as nx\n",
    "G = nx.Graph()"
   ]
  },
  {
   "cell_type": "code",
   "execution_count": null,
   "metadata": {},
   "outputs": [],
   "source": [
    "%%time\n",
    "# load all nodes including all JSON context info into memory\n",
    "sql=\"\"\"\n",
    "select uid,gemd_type,JSON_VALUE(context,'$.name') as name from GEMDContext\n",
    "\"\"\"\n",
    "nodes=cj.executeQuery(sql,DATABASE)\n",
    "len(nodes)"
   ]
  },
  {
   "cell_type": "code",
   "execution_count": null,
   "metadata": {},
   "outputs": [],
   "source": [
    "%%time\n",
    "# load all nodes including all JSON context info into memory\n",
    "sql=\"\"\"\n",
    "select * from GEMDEdge\n",
    "order by from_uid,gemd_ref\n",
    "\"\"\"\n",
    "edges=cj.executeQuery(sql,DATABASE)\n",
    "len(edges)"
   ]
  },
  {
   "cell_type": "code",
   "execution_count": null,
   "metadata": {},
   "outputs": [],
   "source": [
    "edges.head()"
   ]
  },
  {
   "cell_type": "code",
   "execution_count": null,
   "metadata": {},
   "outputs": [],
   "source": [
    "G=nx.from_pandas_edgelist(edges[:100],'from_uid','to_uid',edge_attr=True)"
   ]
  },
  {
   "cell_type": "code",
   "execution_count": null,
   "metadata": {},
   "outputs": [],
   "source": [
    "nx.draw_spring(G)"
   ]
  },
  {
   "cell_type": "code",
   "execution_count": null,
   "metadata": {},
   "outputs": [],
   "source": [
    "nodes.head()"
   ]
  },
  {
   "cell_type": "code",
   "execution_count": null,
   "metadata": {},
   "outputs": [],
   "source": []
  }
 ],
 "metadata": {
  "kernelspec": {
   "display_name": "Python 3.8 (py38)",
   "language": "python",
   "name": "py38"
  },
  "language_info": {
   "codemirror_mode": {
    "name": "ipython",
    "version": 3
   },
   "file_extension": ".py",
   "mimetype": "text/x-python",
   "name": "python",
   "nbconvert_exporter": "python",
   "pygments_lexer": "ipython3",
   "version": "3.8.5"
  }
 },
 "nbformat": 4,
 "nbformat_minor": 4
}
