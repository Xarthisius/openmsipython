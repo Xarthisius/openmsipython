{
 "cells": [
  {
   "cell_type": "markdown",
   "metadata": {},
   "source": [
    "# Sample queries for GEMD database v2: using object tables\n",
    "These queries use the tables for the specific objects types rather than only the GEMDContext table. \\\n",
    "Advantage is that foreign keys are explicit columns, as are certain of the properties. \\\n",
    "These do therefore not have to be retrieved from the JSON 'context' column."
   ]
  },
  {
   "cell_type": "code",
   "execution_count": null,
   "metadata": {},
   "outputs": [],
   "source": [
    "import SciServer.CasJobs as cj\n",
    "from pprint import pprint\n",
    "import json\n",
    "import pandas"
   ]
  },
  {
   "cell_type": "code",
   "execution_count": null,
   "metadata": {},
   "outputs": [],
   "source": [
    "DATABASE='GEMD'"
   ]
  },
  {
   "cell_type": "markdown",
   "metadata": {},
   "source": [
    "## count both contexts and objects"
   ]
  },
  {
   "cell_type": "code",
   "execution_count": null,
   "metadata": {},
   "outputs": [],
   "source": [
    "sql=\"\"\"\n",
    "select top 10 * from material_run\n",
    "order by newid()\n",
    "\"\"\"\n",
    "cj.executeQuery(sql, DATABASE)"
   ]
  },
  {
   "cell_type": "markdown",
   "metadata": {},
   "source": [
    "# JSON queries\n",
    "Exploring JSON query support in MS SQL.\n",
    "See [MS SQL docs](https://docs.microsoft.com/en-us/sql/relational-databases/json/json-data-sql-server?view=sql-server-ver15) for information.\n",
    "Following queries are pursued\n",
    "* find all runs for some random spec. Possibly specific types suchs as material_run and material_spec\n",
    "* for a material_spec having non-empty properties, get material_run(s) and material_template\n",
    "* find properties defined on templates\n",
    "* find all properties for a material_run"
   ]
  },
  {
   "cell_type": "code",
   "execution_count": null,
   "metadata": {},
   "outputs": [],
   "source": [
    "sql=\"\"\"\n",
    "select top 4 context\n",
    "  from  process_run\n",
    " order by newid()\n",
    "\"\"\"\n",
    "process_runs=cj.executeQuery(sql,DATABASE)\n",
    "for process_run in process_runs.itertuples():\n",
    "    pprint(process_run.context)"
   ]
  },
  {
   "cell_type": "markdown",
   "metadata": {},
   "source": [
    "## find all the JSON keys at level one in the context field for different gemd_type values"
   ]
  },
  {
   "cell_type": "code",
   "execution_count": null,
   "metadata": {},
   "outputs": [],
   "source": [
    "\n",
    "sql=\"\"\"\n",
    "SELECT distinct x.[Key]\n",
    "FROM process_spec m\n",
    "cross apply OPENJSON(m.context, '$') AS x\n",
    "order by 1\n",
    "\"\"\"\n",
    "cj.executeQuery(sql, DATABASE)\n"
   ]
  },
  {
   "cell_type": "markdown",
   "metadata": {},
   "source": [
    "## find process runs for a random set of process specs"
   ]
  },
  {
   "cell_type": "code",
   "execution_count": null,
   "metadata": {},
   "outputs": [],
   "source": [
    "sql=\"\"\"\n",
    "with some_specs as (  \n",
    "select top 10 *              -- using SELECT TOP N ... ORDER BY newid() is standard trick for getting a random sample of N entries\n",
    "  from process_spec\n",
    "order by newid()                       \n",
    ")\n",
    "select s.uid as spec_id\n",
    ",      s.name as spec\n",
    ",      r.uid as run_id\n",
    ",      r.context as run\n",
    "  from some_specs s\n",
    "  join process_run r\n",
    "    on r.spec_uid=s.uid\n",
    "order by spec\n",
    "\"\"\"\n",
    "cj.executeQuery(sql,DATABASE)"
   ]
  },
  {
   "cell_type": "markdown",
   "metadata": {},
   "source": [
    "## for a material_spec having non-empty properties, get material_run(s) and material_template"
   ]
  },
  {
   "cell_type": "code",
   "execution_count": null,
   "metadata": {},
   "outputs": [],
   "source": [
    "%%time\n",
    "sql=\"\"\"\n",
    "with some_specs as (\n",
    "select top 3 *\n",
    "  from material_spec\n",
    "-- where context like '%\"properties\":%'\n",
    "--   and context not like '%properties\": [[]]%'   -- having some non-trivial properties. NOTE '[' must be escaped to '[[]', ']' needs no escaping\n",
    "                                                -- see https://docs.microsoft.com/en-us/sql/t-sql/language-elements/like-transact-sql?view=sql-server-ver16#using-wildcard-characters-as-literals\n",
    "order by newid()\n",
    ")\n",
    "select s.uid as spec_id\n",
    ",      t.name as template\n",
    ",      s.name as spec\n",
    ",      m.uid as m_uid,m.name as material\n",
    ",      p.name as process\n",
    ",      ps.name as process_spec\n",
    ",      json_query(ps.context,'$.tags') as ps_tags\n",
    "  from some_specs s\n",
    "  join material_template t on t.uid=s.template_uid\n",
    "  join material_run m on s.uid=m.spec_uid          -- get material_run for material_spec\n",
    "  join process_run p on p.uid=m.process_run_uid    -- get process_run for material_run\n",
    "  join process_spec ps on ps.uid=p.spec_uid        -- get process_spec for process_run\n",
    "  \"\"\"\n",
    "df=cj.executeQuery(sql,DATABASE)\n",
    "df#.head(10)"
   ]
  },
  {
   "cell_type": "code",
   "execution_count": null,
   "metadata": {},
   "outputs": [],
   "source": [
    "specs=df.groupby(['spec_id','spec'])\n",
    "specs['material'].count()"
   ]
  },
  {
   "cell_type": "code",
   "execution_count": null,
   "metadata": {},
   "outputs": [],
   "source": [
    "for k,group in specs:\n",
    "    spec=specs.get_group(k)\n",
    "    break\n",
    "spec"
   ]
  },
  {
   "cell_type": "markdown",
   "metadata": {},
   "source": [
    "## for a material_spec get properties"
   ]
  },
  {
   "cell_type": "code",
   "execution_count": null,
   "metadata": {},
   "outputs": [],
   "source": [
    "%%time\n",
    "sql=\"\"\"\n",
    "select s.uid as spec_id\n",
    ",      s.name as spec\n",
    ",      JSON_VALUE(sp.property,'$.name') as p\n",
    ",      sp.property\n",
    "  from material_spec s\n",
    "  cross apply OPENJSON(s.context,'$.properties') with (property nvarchar(max) 'lax$.property' as json) sp\n",
    "  \"\"\"\n",
    "df=cj.executeQuery(sql,DATABASE)\n",
    "# df.head(4)\n",
    "df"
   ]
  },
  {
   "cell_type": "markdown",
   "metadata": {},
   "source": [
    "## find properties defined on templates\n",
    "This one is harder to do as it requires any kind of \\_template."
   ]
  },
  {
   "cell_type": "code",
   "execution_count": null,
   "metadata": {},
   "outputs": [],
   "source": [
    "%%time\n",
    "sql=\"\"\"\n",
    "select t.uid as template_uid\n",
    ",      JSON_VALUE(t.context,'$.name') as template\n",
    ",      JSON_VALUE(t.context,'$.type') as template_type\n",
    ",      p2.uid as prop_uid\n",
    ",      json_value(p.context,'$.name') as prop_name\n",
    ",      json_value(p.context,'$.description') as prop_description\n",
    ",      json_value(p.context,'$.bounds.type') as prop_bounds_type\n",
    ",      json_value(p.context,'$.bounds.lower_bound') as prop_lower_bound\n",
    ",      json_value(p.context,'$.bounds.upper_bound') as prop_upper_bound\n",
    ",      json_value(p.context,'$.bounds.default_units') as prop_default_units\n",
    ",      json_query(p.context,'$.bounds.categories') as prop_categories\n",
    ",      p.context \n",
    "  from GEMDContext t \n",
    "  cross apply openjson(t.context,'$.properties')  with (props nvarchar(max) '$' as json ) p1  -- for templates, properties seem to be [[  ]], array-of-arrays\n",
    "  cross apply openjson(p1.props, '$') with(uid varchar(36) '$.id') p2                          -- hence need double OPENJSON\n",
    "  join gemdcontext p on p.uid=p2.uid\n",
    " where t.gemd_type like '%[_]template'\n",
    "   and p2.uid is not null\n",
    "   order by template_type,template,prop_name\n",
    "\"\"\"\n",
    "props=cj.executeQuery(sql,DATABASE)\n",
    "props.head(3)"
   ]
  },
  {
   "cell_type": "markdown",
   "metadata": {},
   "source": [
    "## find properties + values defined on *_spec"
   ]
  },
  {
   "cell_type": "code",
   "execution_count": null,
   "metadata": {
    "scrolled": true
   },
   "outputs": [],
   "source": [
    "sql=\"\"\"\n",
    "select spec.uid as spec_uid\n",
    ",      JSON_VALUE(spec.context,'$.name') as spec_name\n",
    ",      JSON_VALUE(spec.context,'$.type') as spec_type\n",
    ",      pt.uid as prop_template_uid\n",
    ",      json_value(pt.context,'$.name') as prop_template_name\n",
    ",      json_value(pt.context,'$.type') as prop_template_type\n",
    ",      json_value(pt.context,'$.description') as prop_template_description\n",
    ",      json_value(pt.context,'$.bounds.type') as prop_template_bounds_type\n",
    ",      json_value(pt.context,'$.bounds.lower_bound') as prop_template_lower_bound\n",
    ",      json_value(pt.context,'$.bounds.upper_bound') as prop_template_upper_bound\n",
    ",      json_value(pt.context,'$.bounds.default_units') as prop_template_default_units\n",
    ",      json_query(pt.context,'$.bounds.categories') as prop_template_categories\n",
    ",      json_query(pt.context,'$.bounds.components') as prop_template_components\n",
    ",      json_value(p.property,'$.value.nominal') as prop_nominal_value\n",
    ",      json_value(p.property,'$.value.units') as prop_units\n",
    ",      json_value(p.property,'$.value.category') as prop_category\n",
    ",      json_query(p.property,'$.value.quantities') as prop_quantities\n",
    ",      p.property\n",
    "  from GEMDContext spec\n",
    "  cross apply openjson(spec.context,'$.properties')  \n",
    "         with (property nvarchar(max) '$.property' as json ) p  -- for specs, properties seem to be [  ], simple arrays\n",
    "  join gemdcontext pt on pt.uid=json_value(p.property, '$.template.id')\n",
    " where spec.gemd_type like '%[_]spec'\n",
    "   and pt.uid is not null\n",
    "   order by spec_type,spec_name,spec_uid,prop_template_name\n",
    "\"\"\"\n",
    "df=cj.executeQuery(sql,DATABASE)\n",
    "df.head(10)"
   ]
  },
  {
   "cell_type": "code",
   "execution_count": null,
   "metadata": {},
   "outputs": [],
   "source": [
    "for tags in df['spec_tags']:\n",
    "    pprint(tags)"
   ]
  },
  {
   "cell_type": "markdown",
   "metadata": {},
   "source": [
    "## find material_run data for material_spec-s"
   ]
  },
  {
   "cell_type": "code",
   "execution_count": null,
   "metadata": {},
   "outputs": [],
   "source": [
    "\n",
    "sql=\"\"\"\n",
    "select spec.uid as spec_uid\n",
    ",      JSON_VALUE(spec.context,'$.name') as spec_name\n",
    ",      JSON_VALUE(run.context,'$.name') as run_name\n",
    ",      run.context as run\n",
    "  from GEMDContext spec\n",
    "  join GEMDContext run on spec.uid=json_value(run.context,'$.spec.id')  \n",
    " where spec.gemd_type = 'material_spec'\n",
    "   order by spec_name,spec_uid\n",
    "\"\"\"\n",
    "df=cj.executeQuery(sql,DATABASE)\n",
    "df.head(3)\n"
   ]
  },
  {
   "cell_type": "markdown",
   "metadata": {},
   "source": [
    "## find  file_links"
   ]
  },
  {
   "cell_type": "code",
   "execution_count": null,
   "metadata": {},
   "outputs": [],
   "source": [
    "sql=\"\"\"\n",
    "select gemd_type, count(*) as num\n",
    "  from gemdcontext\n",
    " where context like '%\"file[_]links\":%'\n",
    "and context not like '%file[_]links\": [[]]%'   -- having some non-trivial file_links. NOTE '[' must be escaped to '[[]', ']' needs no escaping\n",
    "group by gemd_type\n",
    "order by 1\n",
    "\"\"\"\n",
    "file_links=cj.executeQuery(sql,DATABASE)\n",
    "file_links"
   ]
  },
  {
   "cell_type": "code",
   "execution_count": null,
   "metadata": {},
   "outputs": [],
   "source": [
    "sql=\"\"\"\n",
    "select c.uid, c.gemd_type\n",
    ",      json_query(max(c.context), '$.file_links') as filelinks\n",
    ",      string_agg(fl.filename,' | ') as filenames\n",
    "--, fl.url\n",
    "  from gemdcontext c\n",
    "  cross apply OPENJSON(c.context,'$.file_links') \n",
    "         with(filename varchar(100) '$.filename', url varchar(1024) '$.url') fl\n",
    " where fl.filename is not NULL and fl.filename != ''\n",
    " group by c.uid,c.gemd_type\n",
    "order by 2,1\n",
    "\"\"\"\n",
    "file_links=cj.executeQuery(sql,DATABASE)\n",
    "file_links"
   ]
  },
  {
   "cell_type": "code",
   "execution_count": null,
   "metadata": {},
   "outputs": [],
   "source": [
    "for "
   ]
  },
  {
   "cell_type": "markdown",
   "metadata": {},
   "source": [
    "## find gemd_types with non-trival notes"
   ]
  },
  {
   "cell_type": "code",
   "execution_count": null,
   "metadata": {},
   "outputs": [],
   "source": [
    "sql=\"\"\"\n",
    "select gemd_type, count(*) as num\n",
    "  from gemdcontext\n",
    " where context like '%\"notes\":%'\n",
    "and context not like '%notes\": [[]]%'   -- having some non-trivial notes. NOTE '[' must be escaped to '[[]', ']' needs no escaping\n",
    "group by gemd_type\n",
    "order by 1\n",
    "\"\"\"\n",
    "notes=cj.executeQuery(sql,DATABASE)\n",
    "notes"
   ]
  },
  {
   "cell_type": "markdown",
   "metadata": {},
   "source": [
    "## find gemd_types with non-trival parameters\n",
    "(Apparently there are none with ingredients.)"
   ]
  },
  {
   "cell_type": "code",
   "execution_count": null,
   "metadata": {},
   "outputs": [],
   "source": [
    "sql=\"\"\"\n",
    "with a as (\n",
    "select gemd_type\n",
    ",      json_query(context,'$.parameters' ) as params\n",
    "  from gemdcontext\n",
    ")\n",
    "select gemd_type, count(*) as num from a\n",
    "where params is not null and params != '[]'\n",
    "group by gemd_type\n",
    "order by 1\n",
    "\"\"\"\n",
    "parameters=cj.executeQuery(sql,DATABASE)\n",
    "parameters"
   ]
  },
  {
   "cell_type": "code",
   "execution_count": null,
   "metadata": {},
   "outputs": [],
   "source": [
    "sql=\"\"\"\n",
    "with a as (\n",
    "select top 3 *,json_query(context,'$.parameters' ) as params\n",
    "  from gemdcontext c\n",
    " where c.gemd_type='process_spec'\n",
    "   and json_query(context,'$.parameters' ) is not null and json_query(context,'$.parameters' ) != '[]'\n",
    "order by newid()\n",
    ")\n",
    "select a.uid,json_value(a.context, '$.name') as spec_name\n",
    ",      p.name, p.nominal_value, p.category_value\n",
    ",      a.params\n",
    "  from a\n",
    "  cross apply openjson(a.params, '$') \n",
    "    with (name varchar(32) '$.name', nominal_value float '$.value.nominal', category_value varchar(32) '$.value.category') p\n",
    "where params is not null and params != '[]'\n",
    "order by 1,3\n",
    "\"\"\"\n",
    "parameters=cj.executeQuery(sql,DATABASE)\n",
    "parameters"
   ]
  },
  {
   "cell_type": "code",
   "execution_count": null,
   "metadata": {},
   "outputs": [],
   "source": [
    "pprint(parameters.iloc[0].params)"
   ]
  },
  {
   "cell_type": "markdown",
   "metadata": {},
   "source": [
    "## find processes for material and who performed it"
   ]
  },
  {
   "cell_type": "code",
   "execution_count": null,
   "metadata": {},
   "outputs": [],
   "source": [
    "sql=\"\"\"\n",
    "with a as (\n",
    "select json_value(m.context,'$.name') as m_run\n",
    ",      m.context as m\n",
    ",      json_value(p.context,'$.name') as p_name\n",
    ",      json_value(p.context,'$.type') as p_type\n",
    ",      json_value(p.context,'$.source.performed_by') as p_performed_by\n",
    ",      json_value(p.context,'$.source.performed_date') as p_performed_date\n",
    ",      p.context as p\n",
    "  from gemdcontext m\n",
    "  left outer join gemdcontext p on p.uid=json_value(m.context,'$.process.id')\n",
    " where m.gemd_type='material_run'\n",
    ")\n",
    "select p_performed_by, count(*) as num\n",
    "  from a\n",
    "  where p_performed_by is not NULL and p_performed_by != ''\n",
    "  group by p_performed_by\n",
    "\"\"\"\n",
    "cj.executeQuery(sql, DATABASE)"
   ]
  },
  {
   "cell_type": "code",
   "execution_count": null,
   "metadata": {},
   "outputs": [],
   "source": [
    "sql=\"\"\"\n",
    "select c.gemd_type,count(*) as num\n",
    "  from gemdcontext c\n",
    "  where context like '%tags%'\n",
    "  group by gemd_type\n",
    "\"\"\"\n",
    "cj.executeQuery(sql, DATABASE)"
   ]
  },
  {
   "cell_type": "code",
   "execution_count": null,
   "metadata": {},
   "outputs": [],
   "source": []
  }
 ],
 "metadata": {
  "kernelspec": {
   "display_name": "Python 3.8 (py38)",
   "language": "python",
   "name": "py38"
  },
  "language_info": {
   "codemirror_mode": {
    "name": "ipython",
    "version": 3
   },
   "file_extension": ".py",
   "mimetype": "text/x-python",
   "name": "python",
   "nbconvert_exporter": "python",
   "pygments_lexer": "ipython3",
   "version": "3.8.5"
  }
 },
 "nbformat": 4,
 "nbformat_minor": 4
}
